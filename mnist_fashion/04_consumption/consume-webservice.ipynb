{
 "cells": [
  {
   "cell_type": "markdown",
   "metadata": {},
   "source": [
    "# Consume deployed webservice via REST\n",
    "Demonstrates the usage of a deployed model via plain REST.\n",
    "\n",
    "REST is language-agnostic, so you should be able to query from any REST-capable programming language."
   ]
  },
  {
   "cell_type": "markdown",
   "metadata": {},
   "source": [
    "## Configuration"
   ]
  },
  {
   "cell_type": "code",
   "execution_count": 1,
   "metadata": {},
   "outputs": [],
   "source": [
    "from environs import Env\n",
    "env = Env()\n",
    "env.read_env(\"foundation.env\")\n",
    "env.read_env(\"service-principals.env\")\n",
    "\n",
    "# image to test\n",
    "IMAGE_TO_TEST = \"mnist_fashion/04_consumption/random_test_images/random-test-image-1601.png\"\n",
    "\n",
    "# endpoint of the scoring webservice\n",
    "SCORING_URI = \"<...use your own..., eg. https://....westeurope.cloudapp.azure.com:443/api/v1/service/mnist-fashion-service/score>\"\n",
    "\n",
    "# auth method, either \"Token\", \"Keys\" or \"None\".\n",
    "# also specify additional values depending on auth method\n",
    "AUTH_METHOD = \"Token\"\n",
    "if AUTH_METHOD == \"Keys\":\n",
    "    AUTH_KEY = \"<add your key here>\"\n",
    "elif AUTH_METHOD == \"Token\":\n",
    "    REGION = \"eastus\"\n",
    "    SUBSCRIPTION_ID = env(\"SUBSCRIPTION_ID\")\n",
    "    RESOURCE_GROUP = env(\"RESOURCE_GROUP\")\n",
    "    WORKSPACE_NAME = env(\"WORKSPACE_NAME\")\n",
    "    SERVICE_NAME = \"mnist-fashion-service\"\n",
    "    CONSUME_MODEL_SP_TENANT_ID = env(\"CONSUME_MODEL_SP_TENANT_ID\")\n",
    "    CONSUME_MODEL_SP_CLIENT_ID = env(\"CONSUME_MODEL_SP_CLIENT_ID\")\n",
    "    CONSUME_MODEL_SP_CLIENT_SECRET = env(\"CONSUME_MODEL_SP_CLIENT_SECRET\")\n",
    "elif AUTH_METHOD == \"None\":\n",
    "    pass"
   ]
  },
  {
   "cell_type": "markdown",
   "metadata": {},
   "source": [
    "## Load a random image and plot it"
   ]
  },
  {
   "cell_type": "code",
   "execution_count": 2,
   "metadata": {},
   "outputs": [
    {
     "output_type": "display_data",
     "data": {
      "text/plain": "<Figure size 432x288 with 2 Axes>",
      "image/svg+xml": "<?xml version=\"1.0\" encoding=\"utf-8\" standalone=\"no\"?>\r\n<!DOCTYPE svg PUBLIC \"-//W3C//DTD SVG 1.1//EN\"\r\n  \"http://www.w3.org/Graphics/SVG/1.1/DTD/svg11.dtd\">\r\n<!-- Created with matplotlib (https://matplotlib.org/) -->\r\n<svg height=\"248.518125pt\" version=\"1.1\" viewBox=\"0 0 305.2645 248.518125\" width=\"305.2645pt\" xmlns=\"http://www.w3.org/2000/svg\" xmlns:xlink=\"http://www.w3.org/1999/xlink\">\r\n <defs>\r\n  <style type=\"text/css\">\r\n*{stroke-linecap:butt;stroke-linejoin:round;}\r\n  </style>\r\n </defs>\r\n <g id=\"figure_1\">\r\n  <g id=\"patch_1\">\r\n   <path d=\"M 0 248.518125 \r\nL 305.2645 248.518125 \r\nL 305.2645 0 \r\nL 0 0 \r\nz\r\n\" style=\"fill:none;\"/>\r\n  </g>\r\n  <g id=\"axes_1\">\r\n   <g id=\"patch_2\">\r\n    <path d=\"M 26.925 224.64 \r\nL 244.365 224.64 \r\nL 244.365 7.2 \r\nL 26.925 7.2 \r\nz\r\n\" style=\"fill:#ffffff;\"/>\r\n   </g>\r\n   <g clip-path=\"url(#pe72190d9c0)\">\r\n    <image height=\"218\" id=\"image9671b914d5\" transform=\"scale(1 -1)translate(0 -218)\" width=\"218\" x=\"26.925\" xlink:href=\"data:image/png;base64,\r\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\" y=\"-6.64\"/>\r\n   </g>\r\n   <g id=\"matplotlib.axis_1\">\r\n    <g id=\"xtick_1\">\r\n     <g id=\"line2d_1\">\r\n      <defs>\r\n       <path d=\"M 0 0 \r\nL 0 3.5 \r\n\" id=\"mc4fcaadbf6\" style=\"stroke:#000000;stroke-width:0.8;\"/>\r\n      </defs>\r\n      <g>\r\n       <use style=\"stroke:#000000;stroke-width:0.8;\" x=\"30.807857\" xlink:href=\"#mc4fcaadbf6\" y=\"224.64\"/>\r\n      </g>\r\n     </g>\r\n     <g id=\"text_1\">\r\n      <!-- 0 -->\r\n      <defs>\r\n       <path d=\"M 31.78125 66.40625 \r\nQ 24.171875 66.40625 20.328125 58.90625 \r\nQ 16.5 51.421875 16.5 36.375 \r\nQ 16.5 21.390625 20.328125 13.890625 \r\nQ 24.171875 6.390625 31.78125 6.390625 \r\nQ 39.453125 6.390625 43.28125 13.890625 \r\nQ 47.125 21.390625 47.125 36.375 \r\nQ 47.125 51.421875 43.28125 58.90625 \r\nQ 39.453125 66.40625 31.78125 66.40625 \r\nz\r\nM 31.78125 74.21875 \r\nQ 44.046875 74.21875 50.515625 64.515625 \r\nQ 56.984375 54.828125 56.984375 36.375 \r\nQ 56.984375 17.96875 50.515625 8.265625 \r\nQ 44.046875 -1.421875 31.78125 -1.421875 \r\nQ 19.53125 -1.421875 13.0625 8.265625 \r\nQ 6.59375 17.96875 6.59375 36.375 \r\nQ 6.59375 54.828125 13.0625 64.515625 \r\nQ 19.53125 74.21875 31.78125 74.21875 \r\nz\r\n\" id=\"DejaVuSans-48\"/>\r\n      </defs>\r\n      <g transform=\"translate(27.626607 239.238437)scale(0.1 -0.1)\">\r\n       <use xlink:href=\"#DejaVuSans-48\"/>\r\n      </g>\r\n     </g>\r\n    </g>\r\n    <g id=\"xtick_2\">\r\n     <g id=\"line2d_2\">\r\n      <g>\r\n       <use style=\"stroke:#000000;stroke-width:0.8;\" x=\"69.636429\" xlink:href=\"#mc4fcaadbf6\" y=\"224.64\"/>\r\n      </g>\r\n     </g>\r\n     <g id=\"text_2\">\r\n      <!-- 5 -->\r\n      <defs>\r\n       <path d=\"M 10.796875 72.90625 \r\nL 49.515625 72.90625 \r\nL 49.515625 64.59375 \r\nL 19.828125 64.59375 \r\nL 19.828125 46.734375 \r\nQ 21.96875 47.46875 24.109375 47.828125 \r\nQ 26.265625 48.1875 28.421875 48.1875 \r\nQ 40.625 48.1875 47.75 41.5 \r\nQ 54.890625 34.8125 54.890625 23.390625 \r\nQ 54.890625 11.625 47.5625 5.09375 \r\nQ 40.234375 -1.421875 26.90625 -1.421875 \r\nQ 22.3125 -1.421875 17.546875 -0.640625 \r\nQ 12.796875 0.140625 7.71875 1.703125 \r\nL 7.71875 11.625 \r\nQ 12.109375 9.234375 16.796875 8.0625 \r\nQ 21.484375 6.890625 26.703125 6.890625 \r\nQ 35.15625 6.890625 40.078125 11.328125 \r\nQ 45.015625 15.765625 45.015625 23.390625 \r\nQ 45.015625 31 40.078125 35.4375 \r\nQ 35.15625 39.890625 26.703125 39.890625 \r\nQ 22.75 39.890625 18.8125 39.015625 \r\nQ 14.890625 38.140625 10.796875 36.28125 \r\nz\r\n\" id=\"DejaVuSans-53\"/>\r\n      </defs>\r\n      <g transform=\"translate(66.455179 239.238437)scale(0.1 -0.1)\">\r\n       <use xlink:href=\"#DejaVuSans-53\"/>\r\n      </g>\r\n     </g>\r\n    </g>\r\n    <g id=\"xtick_3\">\r\n     <g id=\"line2d_3\">\r\n      <g>\r\n       <use style=\"stroke:#000000;stroke-width:0.8;\" x=\"108.465\" xlink:href=\"#mc4fcaadbf6\" y=\"224.64\"/>\r\n      </g>\r\n     </g>\r\n     <g id=\"text_3\">\r\n      <!-- 10 -->\r\n      <defs>\r\n       <path d=\"M 12.40625 8.296875 \r\nL 28.515625 8.296875 \r\nL 28.515625 63.921875 \r\nL 10.984375 60.40625 \r\nL 10.984375 69.390625 \r\nL 28.421875 72.90625 \r\nL 38.28125 72.90625 \r\nL 38.28125 8.296875 \r\nL 54.390625 8.296875 \r\nL 54.390625 0 \r\nL 12.40625 0 \r\nz\r\n\" id=\"DejaVuSans-49\"/>\r\n      </defs>\r\n      <g transform=\"translate(102.1025 239.238437)scale(0.1 -0.1)\">\r\n       <use xlink:href=\"#DejaVuSans-49\"/>\r\n       <use x=\"63.623047\" xlink:href=\"#DejaVuSans-48\"/>\r\n      </g>\r\n     </g>\r\n    </g>\r\n    <g id=\"xtick_4\">\r\n     <g id=\"line2d_4\">\r\n      <g>\r\n       <use style=\"stroke:#000000;stroke-width:0.8;\" x=\"147.293571\" xlink:href=\"#mc4fcaadbf6\" y=\"224.64\"/>\r\n      </g>\r\n     </g>\r\n     <g id=\"text_4\">\r\n      <!-- 15 -->\r\n      <g transform=\"translate(140.931071 239.238437)scale(0.1 -0.1)\">\r\n       <use xlink:href=\"#DejaVuSans-49\"/>\r\n       <use x=\"63.623047\" xlink:href=\"#DejaVuSans-53\"/>\r\n      </g>\r\n     </g>\r\n    </g>\r\n    <g id=\"xtick_5\">\r\n     <g id=\"line2d_5\">\r\n      <g>\r\n       <use style=\"stroke:#000000;stroke-width:0.8;\" x=\"186.122143\" xlink:href=\"#mc4fcaadbf6\" y=\"224.64\"/>\r\n      </g>\r\n     </g>\r\n     <g id=\"text_5\">\r\n      <!-- 20 -->\r\n      <defs>\r\n       <path d=\"M 19.1875 8.296875 \r\nL 53.609375 8.296875 \r\nL 53.609375 0 \r\nL 7.328125 0 \r\nL 7.328125 8.296875 \r\nQ 12.9375 14.109375 22.625 23.890625 \r\nQ 32.328125 33.6875 34.8125 36.53125 \r\nQ 39.546875 41.84375 41.421875 45.53125 \r\nQ 43.3125 49.21875 43.3125 52.78125 \r\nQ 43.3125 58.59375 39.234375 62.25 \r\nQ 35.15625 65.921875 28.609375 65.921875 \r\nQ 23.96875 65.921875 18.8125 64.3125 \r\nQ 13.671875 62.703125 7.8125 59.421875 \r\nL 7.8125 69.390625 \r\nQ 13.765625 71.78125 18.9375 73 \r\nQ 24.125 74.21875 28.421875 74.21875 \r\nQ 39.75 74.21875 46.484375 68.546875 \r\nQ 53.21875 62.890625 53.21875 53.421875 \r\nQ 53.21875 48.921875 51.53125 44.890625 \r\nQ 49.859375 40.875 45.40625 35.40625 \r\nQ 44.1875 33.984375 37.640625 27.21875 \r\nQ 31.109375 20.453125 19.1875 8.296875 \r\nz\r\n\" id=\"DejaVuSans-50\"/>\r\n      </defs>\r\n      <g transform=\"translate(179.759643 239.238437)scale(0.1 -0.1)\">\r\n       <use xlink:href=\"#DejaVuSans-50\"/>\r\n       <use x=\"63.623047\" xlink:href=\"#DejaVuSans-48\"/>\r\n      </g>\r\n     </g>\r\n    </g>\r\n    <g id=\"xtick_6\">\r\n     <g id=\"line2d_6\">\r\n      <g>\r\n       <use style=\"stroke:#000000;stroke-width:0.8;\" x=\"224.950714\" xlink:href=\"#mc4fcaadbf6\" y=\"224.64\"/>\r\n      </g>\r\n     </g>\r\n     <g id=\"text_6\">\r\n      <!-- 25 -->\r\n      <g transform=\"translate(218.588214 239.238437)scale(0.1 -0.1)\">\r\n       <use xlink:href=\"#DejaVuSans-50\"/>\r\n       <use x=\"63.623047\" xlink:href=\"#DejaVuSans-53\"/>\r\n      </g>\r\n     </g>\r\n    </g>\r\n   </g>\r\n   <g id=\"matplotlib.axis_2\">\r\n    <g id=\"ytick_1\">\r\n     <g id=\"line2d_7\">\r\n      <defs>\r\n       <path d=\"M 0 0 \r\nL -3.5 0 \r\n\" id=\"m66d3d6c69f\" style=\"stroke:#000000;stroke-width:0.8;\"/>\r\n      </defs>\r\n      <g>\r\n       <use style=\"stroke:#000000;stroke-width:0.8;\" x=\"26.925\" xlink:href=\"#m66d3d6c69f\" y=\"11.082857\"/>\r\n      </g>\r\n     </g>\r\n     <g id=\"text_7\">\r\n      <!-- 0 -->\r\n      <g transform=\"translate(13.5625 14.882076)scale(0.1 -0.1)\">\r\n       <use xlink:href=\"#DejaVuSans-48\"/>\r\n      </g>\r\n     </g>\r\n    </g>\r\n    <g id=\"ytick_2\">\r\n     <g id=\"line2d_8\">\r\n      <g>\r\n       <use style=\"stroke:#000000;stroke-width:0.8;\" x=\"26.925\" xlink:href=\"#m66d3d6c69f\" y=\"49.911429\"/>\r\n      </g>\r\n     </g>\r\n     <g id=\"text_8\">\r\n      <!-- 5 -->\r\n      <g transform=\"translate(13.5625 53.710647)scale(0.1 -0.1)\">\r\n       <use xlink:href=\"#DejaVuSans-53\"/>\r\n      </g>\r\n     </g>\r\n    </g>\r\n    <g id=\"ytick_3\">\r\n     <g id=\"line2d_9\">\r\n      <g>\r\n       <use style=\"stroke:#000000;stroke-width:0.8;\" x=\"26.925\" xlink:href=\"#m66d3d6c69f\" y=\"88.74\"/>\r\n      </g>\r\n     </g>\r\n     <g id=\"text_9\">\r\n      <!-- 10 -->\r\n      <g transform=\"translate(7.2 92.539219)scale(0.1 -0.1)\">\r\n       <use xlink:href=\"#DejaVuSans-49\"/>\r\n       <use x=\"63.623047\" xlink:href=\"#DejaVuSans-48\"/>\r\n      </g>\r\n     </g>\r\n    </g>\r\n    <g id=\"ytick_4\">\r\n     <g id=\"line2d_10\">\r\n      <g>\r\n       <use style=\"stroke:#000000;stroke-width:0.8;\" x=\"26.925\" xlink:href=\"#m66d3d6c69f\" y=\"127.568571\"/>\r\n      </g>\r\n     </g>\r\n     <g id=\"text_10\">\r\n      <!-- 15 -->\r\n      <g transform=\"translate(7.2 131.36779)scale(0.1 -0.1)\">\r\n       <use xlink:href=\"#DejaVuSans-49\"/>\r\n       <use x=\"63.623047\" xlink:href=\"#DejaVuSans-53\"/>\r\n      </g>\r\n     </g>\r\n    </g>\r\n    <g id=\"ytick_5\">\r\n     <g id=\"line2d_11\">\r\n      <g>\r\n       <use style=\"stroke:#000000;stroke-width:0.8;\" x=\"26.925\" xlink:href=\"#m66d3d6c69f\" y=\"166.397143\"/>\r\n      </g>\r\n     </g>\r\n     <g id=\"text_11\">\r\n      <!-- 20 -->\r\n      <g transform=\"translate(7.2 170.196362)scale(0.1 -0.1)\">\r\n       <use xlink:href=\"#DejaVuSans-50\"/>\r\n       <use x=\"63.623047\" xlink:href=\"#DejaVuSans-48\"/>\r\n      </g>\r\n     </g>\r\n    </g>\r\n    <g id=\"ytick_6\">\r\n     <g id=\"line2d_12\">\r\n      <g>\r\n       <use style=\"stroke:#000000;stroke-width:0.8;\" x=\"26.925\" xlink:href=\"#m66d3d6c69f\" y=\"205.225714\"/>\r\n      </g>\r\n     </g>\r\n     <g id=\"text_12\">\r\n      <!-- 25 -->\r\n      <g transform=\"translate(7.2 209.024933)scale(0.1 -0.1)\">\r\n       <use xlink:href=\"#DejaVuSans-50\"/>\r\n       <use x=\"63.623047\" xlink:href=\"#DejaVuSans-53\"/>\r\n      </g>\r\n     </g>\r\n    </g>\r\n   </g>\r\n   <g id=\"patch_3\">\r\n    <path d=\"M 26.925 224.64 \r\nL 26.925 7.2 \r\n\" style=\"fill:none;stroke:#000000;stroke-linecap:square;stroke-linejoin:miter;stroke-width:0.8;\"/>\r\n   </g>\r\n   <g id=\"patch_4\">\r\n    <path d=\"M 244.365 224.64 \r\nL 244.365 7.2 \r\n\" style=\"fill:none;stroke:#000000;stroke-linecap:square;stroke-linejoin:miter;stroke-width:0.8;\"/>\r\n   </g>\r\n   <g id=\"patch_5\">\r\n    <path d=\"M 26.925 224.64 \r\nL 244.365 224.64 \r\n\" style=\"fill:none;stroke:#000000;stroke-linecap:square;stroke-linejoin:miter;stroke-width:0.8;\"/>\r\n   </g>\r\n   <g id=\"patch_6\">\r\n    <path d=\"M 26.925 7.2 \r\nL 244.365 7.2 \r\n\" style=\"fill:none;stroke:#000000;stroke-linecap:square;stroke-linejoin:miter;stroke-width:0.8;\"/>\r\n   </g>\r\n  </g>\r\n  <g id=\"axes_2\">\r\n   <g id=\"patch_7\">\r\n    <path clip-path=\"url(#pd3127950b5)\" d=\"M 261.105 224.64 \r\nL 261.105 223.790625 \r\nL 261.105 8.049375 \r\nL 261.105 7.2 \r\nL 271.977 7.2 \r\nL 271.977 8.049375 \r\nL 271.977 223.790625 \r\nL 271.977 224.64 \r\nz\r\n\" style=\"fill:#ffffff;stroke:#ffffff;stroke-linejoin:miter;stroke-width:0.01;\"/>\r\n   </g>\r\n   <image height=\"217\" id=\"imagee6cb556032\" transform=\"scale(1 -1)translate(0 -217)\" width=\"11\" x=\"261\" xlink:href=\"data:image/png;base64,\r\niVBORw0KGgoAAAANSUhEUgAAAAsAAADZCAYAAAD2WsoCAAAABHNCSVQICAgIfAhkiAAAAUhJREFUaIHdmsENAjEMBGM7R2XUQP+NQGjB8xjJd7yt1e6sQ9Bx8c7PWc3Pjozu7Norsj/MlKuIDaAcCTwj5aUpB6LBGtSGh3AWaWg2RHQWjcNstGdNGqJn7VidmtFgf9YMeDQbKKC3SIccWI8GVAbDcJ+J8h1piHUjG5qyRsPcDUvZ5HxDdDO2boqyR6M/iy96YgPdg5qN59f9eHQ3DOjVvaJ/vsegux8N4JgHBJ69UkTOM2iAn0huKV7AEcrgORmkwWzMQJdiQIuG5zmTDHs2loWu8gdseAFFGmB4azS8gJ4NRkP0bJWymTIYLrFui8YVX0kZ0rACFlG+ktAgDZa3dcQGrBvZGNEg4sxoMBtWQFTKSwyo7YZ2rK4FaMCA1j3Ilp99FXgB27NUuS+89ov83YCUiymD4SLDSPkK8LoO80zeOUnwkOoPXoiBaF8nrs8AAAAASUVORK5CYII=\" y=\"-7\"/>\r\n   <g id=\"matplotlib.axis_3\"/>\r\n   <g id=\"matplotlib.axis_4\">\r\n    <g id=\"ytick_7\">\r\n     <g id=\"line2d_13\">\r\n      <defs>\r\n       <path d=\"M 0 0 \r\nL 3.5 0 \r\n\" id=\"m86ee29883b\" style=\"stroke:#000000;stroke-width:0.8;\"/>\r\n      </defs>\r\n      <g>\r\n       <use style=\"stroke:#000000;stroke-width:0.8;\" x=\"271.977\" xlink:href=\"#m86ee29883b\" y=\"224.64\"/>\r\n      </g>\r\n     </g>\r\n     <g id=\"text_13\">\r\n      <!-- 0 -->\r\n      <g transform=\"translate(278.977 228.439219)scale(0.1 -0.1)\">\r\n       <use xlink:href=\"#DejaVuSans-48\"/>\r\n      </g>\r\n     </g>\r\n    </g>\r\n    <g id=\"ytick_8\">\r\n     <g id=\"line2d_14\">\r\n      <g>\r\n       <use style=\"stroke:#000000;stroke-width:0.8;\" x=\"271.977\" xlink:href=\"#m86ee29883b\" y=\"182.004706\"/>\r\n      </g>\r\n     </g>\r\n     <g id=\"text_14\">\r\n      <!-- 50 -->\r\n      <g transform=\"translate(278.977 185.803925)scale(0.1 -0.1)\">\r\n       <use xlink:href=\"#DejaVuSans-53\"/>\r\n       <use x=\"63.623047\" xlink:href=\"#DejaVuSans-48\"/>\r\n      </g>\r\n     </g>\r\n    </g>\r\n    <g id=\"ytick_9\">\r\n     <g id=\"line2d_15\">\r\n      <g>\r\n       <use style=\"stroke:#000000;stroke-width:0.8;\" x=\"271.977\" xlink:href=\"#m86ee29883b\" y=\"139.369412\"/>\r\n      </g>\r\n     </g>\r\n     <g id=\"text_15\">\r\n      <!-- 100 -->\r\n      <g transform=\"translate(278.977 143.168631)scale(0.1 -0.1)\">\r\n       <use xlink:href=\"#DejaVuSans-49\"/>\r\n       <use x=\"63.623047\" xlink:href=\"#DejaVuSans-48\"/>\r\n       <use x=\"127.246094\" xlink:href=\"#DejaVuSans-48\"/>\r\n      </g>\r\n     </g>\r\n    </g>\r\n    <g id=\"ytick_10\">\r\n     <g id=\"line2d_16\">\r\n      <g>\r\n       <use style=\"stroke:#000000;stroke-width:0.8;\" x=\"271.977\" xlink:href=\"#m86ee29883b\" y=\"96.734118\"/>\r\n      </g>\r\n     </g>\r\n     <g id=\"text_16\">\r\n      <!-- 150 -->\r\n      <g transform=\"translate(278.977 100.533336)scale(0.1 -0.1)\">\r\n       <use xlink:href=\"#DejaVuSans-49\"/>\r\n       <use x=\"63.623047\" xlink:href=\"#DejaVuSans-53\"/>\r\n       <use x=\"127.246094\" xlink:href=\"#DejaVuSans-48\"/>\r\n      </g>\r\n     </g>\r\n    </g>\r\n    <g id=\"ytick_11\">\r\n     <g id=\"line2d_17\">\r\n      <g>\r\n       <use style=\"stroke:#000000;stroke-width:0.8;\" x=\"271.977\" xlink:href=\"#m86ee29883b\" y=\"54.098824\"/>\r\n      </g>\r\n     </g>\r\n     <g id=\"text_17\">\r\n      <!-- 200 -->\r\n      <g transform=\"translate(278.977 57.898042)scale(0.1 -0.1)\">\r\n       <use xlink:href=\"#DejaVuSans-50\"/>\r\n       <use x=\"63.623047\" xlink:href=\"#DejaVuSans-48\"/>\r\n       <use x=\"127.246094\" xlink:href=\"#DejaVuSans-48\"/>\r\n      </g>\r\n     </g>\r\n    </g>\r\n    <g id=\"ytick_12\">\r\n     <g id=\"line2d_18\">\r\n      <g>\r\n       <use style=\"stroke:#000000;stroke-width:0.8;\" x=\"271.977\" xlink:href=\"#m86ee29883b\" y=\"11.463529\"/>\r\n      </g>\r\n     </g>\r\n     <g id=\"text_18\">\r\n      <!-- 250 -->\r\n      <g transform=\"translate(278.977 15.262748)scale(0.1 -0.1)\">\r\n       <use xlink:href=\"#DejaVuSans-50\"/>\r\n       <use x=\"63.623047\" xlink:href=\"#DejaVuSans-53\"/>\r\n       <use x=\"127.246094\" xlink:href=\"#DejaVuSans-48\"/>\r\n      </g>\r\n     </g>\r\n    </g>\r\n   </g>\r\n   <g id=\"patch_8\">\r\n    <path d=\"M 261.105 224.64 \r\nL 261.105 223.790625 \r\nL 261.105 8.049375 \r\nL 261.105 7.2 \r\nL 271.977 7.2 \r\nL 271.977 8.049375 \r\nL 271.977 223.790625 \r\nL 271.977 224.64 \r\nz\r\n\" style=\"fill:none;stroke:#000000;stroke-linejoin:miter;stroke-width:0.8;\"/>\r\n   </g>\r\n  </g>\r\n </g>\r\n <defs>\r\n  <clipPath id=\"pe72190d9c0\">\r\n   <rect height=\"217.44\" width=\"217.44\" x=\"26.925\" y=\"7.2\"/>\r\n  </clipPath>\r\n  <clipPath id=\"pd3127950b5\">\r\n   <rect height=\"217.44\" width=\"10.872\" x=\"261.105\" y=\"7.2\"/>\r\n  </clipPath>\r\n </defs>\r\n</svg>\r\n",
      "image/png": "[encoded data removed]"
     },
     "metadata": {
      "needs_background": "light"
     }
    }
   ],
   "source": [
    "import matplotlib.pyplot as plt\n",
    "from PIL import Image\n",
    "\n",
    "image = Image.open(IMAGE_TO_TEST)\n",
    "plt.figure()\n",
    "plt.imshow(image)\n",
    "plt.colorbar()\n",
    "plt.grid(False)\n",
    "plt.show()"
   ]
  },
  {
   "cell_type": "markdown",
   "metadata": {},
   "source": [
    "## Invoke the webservice and show result"
   ]
  },
  {
   "cell_type": "code",
   "execution_count": 3,
   "metadata": {},
   "outputs": [
    {
     "output_type": "stream",
     "name": "stdout",
     "text": "{'predicted_label': 'Bag', 'confidence': '1.0'}\n"
    }
   ],
   "source": [
    "import requests\n",
    "import json\n",
    "\n",
    "# --- get input data\n",
    "input_data = open(IMAGE_TO_TEST, \"rb\").read()\n",
    "# alternatively for JSON input\n",
    "#input_data = json.dumps({\"x\": 4711})\n",
    "\n",
    "# --- get headers\n",
    "# Content-Type\n",
    "# for binary data\n",
    "headers = {\"Content-Type\": \"application/octet-stream\"}\n",
    "# alternatively for JSON data\n",
    "#headers = {\"Content-Type\": \"application/json\"}\n",
    "\n",
    "# Authorization\n",
    "if AUTH_METHOD == \"Token\":\n",
    "    # get an access token for the service principal to access Azure\n",
    "    azure_access_token = requests.post(\n",
    "        f\"https://login.microsoftonline.com/{CONSUME_MODEL_SP_TENANT_ID}/oauth2/token\",\n",
    "        headers={\"Content-Type\": \"application/x-www-form-urlencoded\"},\n",
    "        data=\"grant_type=client_credentials\"\n",
    "        + \"&resource=https%3A%2F%2Fmanagement.azure.com%2F\"\n",
    "        + f\"&client_id={CONSUME_MODEL_SP_CLIENT_ID}\"\n",
    "        + f\"&client_secret={CONSUME_MODEL_SP_CLIENT_SECRET}\",\n",
    "    ).json()[\"access_token\"]\n",
    "\n",
    "    # use that token to get another token for accessing the webservice\n",
    "    # note: the token is only valid for a certain period of time.\n",
    "    #       after that time, a new token has to be used. the logic\n",
    "    #       to do this, is not implemented here yet. you can check\n",
    "    #       the current time against the refresh after time to know\n",
    "    #       if a new token is required. refreshAfter and expiryOn\n",
    "    #       are UNIX timestamps. use time.time() to get the current\n",
    "    #       timestamp.\n",
    "    token_response = requests.post(\n",
    "        f\"https://{REGION}.modelmanagement.azureml.net/modelmanagement/v1.0/subscriptions/{SUBSCRIPTION_ID}/resourceGroups/{RESOURCE_GROUP}/providers/Microsoft.MachineLearningServices/workspaces/{WORKSPACE_NAME}/services/{SERVICE_NAME}/token\",\n",
    "        headers={\"Authorization\": f\"Bearer {azure_access_token}\"}\n",
    "    ).json()\n",
    "    access_token = token_response[\"accessToken\"]\n",
    "    access_token_refresh_after = int(token_response[\"refreshAfter\"])\n",
    "    access_token_expiry_on = int(token_response[\"expiryOn\"])\n",
    "\n",
    "    # finally, use that token to access the webservice\n",
    "    headers[\"Authorization\"] = f\"Bearer {access_token}\"\n",
    "if AUTH_METHOD == \"Keys\":\n",
    "    headers[\"Authorization\"] = f\"Bearer {AUTH_KEY}\"\n",
    "if AUTH_METHOD == \"None\":\n",
    "    # do nothing\n",
    "    pass\n",
    "\n",
    "# --- make request and display response\n",
    "response = requests.post(SCORING_URI, input_data, headers=headers, verify=True)\n",
    "print(response.json())"
   ]
  }
 ],
 "metadata": {
  "language_info": {
   "name": "python",
   "codemirror_mode": {
    "name": "ipython",
    "version": 3
   },
   "version": "3.6.10-final"
  },
  "orig_nbformat": 2,
  "file_extension": ".py",
  "mimetype": "text/x-python",
  "name": "python",
  "npconvert_exporter": "python",
  "pygments_lexer": "ipython3",
  "version": 3,
  "kernelspec": {
   "name": "python361064bitamltemplatecondaa8d5916ec83f44f8921a274321300a27",
   "display_name": "Python 3.6.10 64-bit ('aml_template': conda)"
  }
 },
 "nbformat": 4,
 "nbformat_minor": 2
}