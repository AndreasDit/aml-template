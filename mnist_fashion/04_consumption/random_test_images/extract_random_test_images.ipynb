{
 "nbformat": 4,
 "nbformat_minor": 2,
 "metadata": {
  "language_info": {
   "name": "python",
   "codemirror_mode": {
    "name": "ipython",
    "version": 3
   }
  },
  "orig_nbformat": 2,
  "file_extension": ".py",
  "mimetype": "text/x-python",
  "name": "python",
  "npconvert_exporter": "python",
  "pygments_lexer": "ipython3",
  "version": 3
 },
 "cells": [
  {
   "cell_type": "code",
   "execution_count": null,
   "metadata": {},
   "outputs": [],
   "source": [
    "# run this code after the training of a model so we have the test_images variable loaded\n",
    "\n",
    "# note that the images will look inverted. this is because the plots in the contained\n",
    "# notebooks use a different color map. the extracted images will work with the deployed\n",
    "# webservice.\n",
    "\n",
    "from PIL import Image\n",
    "\n",
    "for random_index in [randrange(0, len(test_images)) for i in range(10)]:\n",
    "    image = Image.fromarray(test_images[random_index] * 255).convert(\"L\")\n",
    "    image.save(f\"random-test-image-{str(random_index)}.png\")"
   ]
  }
 ]
}